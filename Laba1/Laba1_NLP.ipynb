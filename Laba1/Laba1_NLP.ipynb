{
 "cells": [
  {
   "cell_type": "markdown",
   "id": "a4402251",
   "metadata": {},
   "source": [
    "# Лабораторная работа 1. \"Предобработка текста\"\n",
    "**Выполнила: Печкина Кристина, 932001 группа**"
   ]
  },
  {
   "cell_type": "code",
   "execution_count": 1,
   "id": "3c7de82f",
   "metadata": {},
   "outputs": [],
   "source": [
    "#Токенизация\n",
    "import nltk\n",
    "from nltk.tokenize import word_tokenize\n",
    "\n",
    "#Сегментация\n",
    "import nltk\n",
    "from nltk import sent_tokenize\n",
    "\n",
    "#Лемматизация\n",
    "import pymorphy2\n",
    "m = pymorphy2.MorphAnalyzer()"
   ]
  },
  {
   "cell_type": "code",
   "execution_count": 2,
   "id": "a112c248",
   "metadata": {},
   "outputs": [],
   "source": [
    "# Проверка на то, является ли слово сущ или прил\n",
    "def is_noun_or_adj(word):\n",
    "    parsed_word = m.parse(word)[0]\n",
    "    return any(tag in parsed_word.tag for tag in ['NOUN', 'ADJF'])"
   ]
  },
  {
   "cell_type": "code",
   "execution_count": 3,
   "id": "2e6dbe28",
   "metadata": {},
   "outputs": [],
   "source": [
    "# Совпадают ли слова по роду, числу и падежу\n",
    "def match_pairs(word1, word2):\n",
    "    parsed_word1 = m.parse(word1)[0]\n",
    "    parsed_word2 = m.parse(word2)[0]\n",
    "\n",
    "    if ('NOUN' in parsed_word1.tag or 'ADJF' in parsed_word1.tag) and ('NOUN' in parsed_word2.tag or 'ADJF' in parsed_word2.tag):\n",
    "        return parsed_word1.tag.gender == parsed_word2.tag.gender and parsed_word1.tag.number == parsed_word2.tag.number and parsed_word1.tag.case == parsed_word2.tag.case\n",
    "    return False"
   ]
  },
  {
   "cell_type": "code",
   "execution_count": 6,
   "id": "ba8e75c1",
   "metadata": {},
   "outputs": [
    {
     "name": "stdout",
     "output_type": "stream",
     "text": [
      "Текст:\n",
      "Ветер шумит в листве, даря прохладу.\n",
      "На горизонте медленно заходит солнце.\n",
      "Друзья собрались вместе для вечеринки.\n",
      "Звезды сияют на ночном небе ярко.\n",
      "Море приносит бескрайний покой и спокойствие.\n",
      "\n",
      "Пары слов, удовлетворяющие условиям:\n",
      "  ночной небо\n",
      "  бескрайний покой\n"
     ]
    }
   ],
   "source": [
    "# Прочитаем текст из файла\n",
    "with open('Doc.txt', 'r', encoding='utf-8') as file:\n",
    "    text = file.read()\n",
    "\n",
    "    print(\"Текст:\")\n",
    "    print(text)\n",
    "\n",
    "# Найдем пары\n",
    "    sentences = sent_tokenize(text)\n",
    "\n",
    "    print(\"\\nПары слов, удовлетворяющие условиям:\")\n",
    "\n",
    "    for sentence in sentences:\n",
    "# Токенизируем предложение на слова\n",
    "        words = word_tokenize(sentence)\n",
    "\n",
    "        # Проходим по словам и ищем пары, удовлетворяюще условиям\n",
    "        for i in range(len(words) - 1):\n",
    "            word1 = words[i]\n",
    "            word2 = words[i + 1]\n",
    "\n",
    "            if is_noun_or_adj(word1) and is_noun_or_adj(word2) and match_pairs(word1, word2):\n",
    "              W1 = m.parse(word1)[0].normal_form\n",
    "              W2 = m.parse(word2)[0].normal_form\n",
    "              print(\" \",W1, W2)\n"
   ]
  },
  {
   "cell_type": "code",
   "execution_count": null,
   "id": "0145dec4",
   "metadata": {},
   "outputs": [],
   "source": []
  }
 ],
 "metadata": {
  "kernelspec": {
   "display_name": "Python 3 (ipykernel)",
   "language": "python",
   "name": "python3"
  },
  "language_info": {
   "codemirror_mode": {
    "name": "ipython",
    "version": 3
   },
   "file_extension": ".py",
   "mimetype": "text/x-python",
   "name": "python",
   "nbconvert_exporter": "python",
   "pygments_lexer": "ipython3",
   "version": "3.10.9"
  }
 },
 "nbformat": 4,
 "nbformat_minor": 5
}
