{
 "cells": [
  {
   "cell_type": "code",
   "execution_count": 2,
   "id": "cb7e3eaf",
   "metadata": {},
   "outputs": [],
   "source": [
    "from transformers import BertTokenizer, BertForMaskedLM\n",
    "from torch.nn import functional as F\n",
    "import torch"
   ]
  },
  {
   "cell_type": "code",
   "execution_count": 3,
   "id": "2e57bd88",
   "metadata": {},
   "outputs": [
    {
     "name": "stderr",
     "output_type": "stream",
     "text": [
      "Some weights of the model checkpoint at bert-base-multilingual-uncased were not used when initializing BertForMaskedLM: ['bert.pooler.dense.weight', 'cls.seq_relationship.weight', 'cls.seq_relationship.bias', 'bert.pooler.dense.bias']\n",
      "- This IS expected if you are initializing BertForMaskedLM from the checkpoint of a model trained on another task or with another architecture (e.g. initializing a BertForSequenceClassification model from a BertForPreTraining model).\n",
      "- This IS NOT expected if you are initializing BertForMaskedLM from the checkpoint of a model that you expect to be exactly identical (initializing a BertForSequenceClassification model from a BertForSequenceClassification model).\n"
     ]
    }
   ],
   "source": [
    "#Инициализация\n",
    "name =\"bert-base-multilingual-uncased\"\n",
    "tokenizer = BertTokenizer.from_pretrained(name)\n",
    "model = BertForMaskedLM.from_pretrained(name, return_dict = True)"
   ]
  },
  {
   "cell_type": "code",
   "execution_count": 13,
   "id": "26d600d8",
   "metadata": {},
   "outputs": [],
   "source": [
    "#Вычисления\n",
    "text =\"На скале\" + tokenizer.mask_token + \"высматривал добычу.\"\n",
    "input = tokenizer.encode_plus(text, return_tensors = \"pt\")\n",
    "mask_index = torch.where(input[\"input_ids\"][0] == tokenizer.mask_token_id)\n",
    "output = model(**input)"
   ]
  },
  {
   "cell_type": "code",
   "execution_count": 14,
   "id": "10409c9a",
   "metadata": {},
   "outputs": [
    {
     "name": "stdout",
     "output_type": "stream",
     "text": [
      "он\n",
      "художник\n",
      "человек\n",
      "мастер\n",
      "царь\n",
      "поэт\n",
      "сам\n",
      "ученыи\n",
      "я\n",
      "и\n"
     ]
    }
   ],
   "source": [
    "#Вывод\n",
    "logits = output.logits\n",
    "softmax = F.softmax(logits, dim = -1)\n",
    "mask_word = softmax[0, mask_index[0], :]\n",
    "top = torch.topk(mask_word, 10)\n",
    "for token in top[-1][0].data:\n",
    "    print(tokenizer.decode([token]))"
   ]
  },
  {
   "cell_type": "code",
   "execution_count": null,
   "id": "5df7e5e8",
   "metadata": {},
   "outputs": [],
   "source": []
  }
 ],
 "metadata": {
  "kernelspec": {
   "display_name": "Python 3 (ipykernel)",
   "language": "python",
   "name": "python3"
  },
  "language_info": {
   "codemirror_mode": {
    "name": "ipython",
    "version": 3
   },
   "file_extension": ".py",
   "mimetype": "text/x-python",
   "name": "python",
   "nbconvert_exporter": "python",
   "pygments_lexer": "ipython3",
   "version": "3.10.9"
  }
 },
 "nbformat": 4,
 "nbformat_minor": 5
}
