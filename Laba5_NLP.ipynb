{
 "cells": [
  {
   "cell_type": "code",
   "execution_count": 1,
   "id": "97f85e2b",
   "metadata": {},
   "outputs": [
    {
     "data": {
      "text/plain": [
       "<torch._C.Generator at 0x2a9dedbda10>"
      ]
     },
     "execution_count": 1,
     "metadata": {},
     "output_type": "execute_result"
    }
   ],
   "source": [
    "from sys import argv\n",
    "import numpy as np\n",
    "import torch\n",
    "from transformers import GPT2LMHeadModel, GPT2Tokenizer\n",
    "\n",
    "# Установка seed для повторяемости результатов\n",
    "np.random.seed(42)\n",
    "torch.manual_seed(42)"
   ]
  },
  {
   "cell_type": "code",
   "execution_count": 2,
   "id": "9d0e988d",
   "metadata": {},
   "outputs": [],
   "source": [
    "#Загрузка\n",
    "def load_tokenizer_and_model(model_name_or_path):\n",
    "    return GPT2Tokenizer.from_pretrained(model_name_or_path), GPT2LMHeadModel.from_pretrained(model_name_or_path)\n",
    "\n",
    "tok, model = load_tokenizer_and_model(\"sberbank-ai/rugpt3large_based_on_gpt2\")"
   ]
  },
  {
   "cell_type": "code",
   "execution_count": 3,
   "id": "fa4bf6e9",
   "metadata": {},
   "outputs": [],
   "source": [
    "def generate(\n",
    "    model, tok, text,\n",
    "    do_sample=True, max_length=100, repetition_penalty=5.0,\n",
    "    top_k=5, top_p=0.95, temperature=1,\n",
    "    num_beams=None,\n",
    "    no_repeat_ngram_size=3\n",
    "):\n",
    "    input_ids = tok.encode(text, return_tensors=\"pt\")\n",
    "    out = model.generate(\n",
    "        input_ids,\n",
    "        max_length=max_length,\n",
    "        repetition_penalty=repetition_penalty,\n",
    "        do_sample=do_sample,\n",
    "        top_k=top_k, top_p=top_p, temperature=temperature,\n",
    "        num_beams=num_beams, no_repeat_ngram_size=no_repeat_ngram_size\n",
    "    )\n",
    "    return list(map(tok.decode, out))"
   ]
  },
  {
   "cell_type": "code",
   "execution_count": 19,
   "id": "0f944a02",
   "metadata": {},
   "outputs": [
    {
     "name": "stderr",
     "output_type": "stream",
     "text": [
      "The attention mask and the pad token id were not set. As a consequence, you may observe unexpected behavior. Please pass your input's `attention_mask` to obtain reliable results.\n",
      "Setting `pad_token_id` to `eos_token_id`:50256 for open-end generation.\n"
     ]
    },
    {
     "name": "stdout",
     "output_type": "stream",
     "text": [
      "Морковный сок - это самый вкусный и полезный продукт, который можно найти в любом супермаркете. Он содержит большое количество витаминов А, В1, В2, С, Е, РР, а также микроэлементы: калий, кальций, фосфор, магний, натрий, железо, марганец, медь, цинк, селен, йод, кобальт, фтор, молибден, ванадий, хром, никель,\n"
     ]
    }
   ],
   "source": [
    "#Запуск\n",
    "generated = generate(model, tok, \"Морковный сок - это самый\", num_beams=10)\n",
    "print(generated[0])"
   ]
  },
  {
   "cell_type": "code",
   "execution_count": 18,
   "id": "a39027c5",
   "metadata": {},
   "outputs": [
    {
     "name": "stderr",
     "output_type": "stream",
     "text": [
      "The attention mask and the pad token id were not set. As a consequence, you may observe unexpected behavior. Please pass your input's `attention_mask` to obtain reliable results.\n",
      "Setting `pad_token_id` to `eos_token_id`:50256 for open-end generation.\n"
     ]
    },
    {
     "name": "stdout",
     "output_type": "stream",
     "text": [
      "Этот салат с ягодами и орехами - это самый простой рецепт салата, который можно приготовить в любое время года.\n",
      "Ингредиенты: 1 банка консервированной кукурузы, 2 яйца, 3 ст. л. майонеза, 100 г грецких орехов, 50 г твердого сыра, зелень петрушки или укропа, соль по вкусу.\n",
      "Способ приготовления: Яйца сварить вкрутую, отделить белки от желтков. Желтки растереть с\n"
     ]
    }
   ],
   "source": [
    "#Запуск\n",
    "generated = generate(model, tok, \"Этот салат с ягодами и орехами - это самый\", num_beams=10)\n",
    "print(generated[0])"
   ]
  },
  {
   "cell_type": "code",
   "execution_count": 22,
   "id": "6e93cbb7",
   "metadata": {},
   "outputs": [
    {
     "name": "stderr",
     "output_type": "stream",
     "text": [
      "The attention mask and the pad token id were not set. As a consequence, you may observe unexpected behavior. Please pass your input's `attention_mask` to obtain reliable results.\n",
      "Setting `pad_token_id` to `eos_token_id`:50256 for open-end generation.\n"
     ]
    },
    {
     "name": "stdout",
     "output_type": "stream",
     "text": [
      "Морковный сок - это \n",
      "не только вкусно, но и полезно. В морковном соке содержится большое количество витамина С (аскорбиновой кислоты), каротина, фолиевой кислоты, калия, кальция, магния, фосфора, железа, марганца, меди, цинка, кобальта, фтора, молибдена, йода, селена, витаминов группы В, РР, а также минеральных веществ: натрия, хлора,\n"
     ]
    }
   ],
   "source": [
    "#Запуск\n",
    "generated = generate(model, tok, \"Морковный сок - это \", num_beams=10)\n",
    "print(generated[0])"
   ]
  },
  {
   "cell_type": "code",
   "execution_count": 23,
   "id": "d9633d9b",
   "metadata": {},
   "outputs": [
    {
     "name": "stderr",
     "output_type": "stream",
     "text": [
      "The attention mask and the pad token id were not set. As a consequence, you may observe unexpected behavior. Please pass your input's `attention_mask` to obtain reliable results.\n",
      "Setting `pad_token_id` to `eos_token_id`:50256 for open-end generation.\n"
     ]
    },
    {
     "name": "stdout",
     "output_type": "stream",
     "text": [
      "Морковный сок - это самый вкусный и полезный напиток, который можно пить в любое время года. Морковь содержит большое количество витаминов А, С, В1, В2, РР, Е, а также минеральные вещества: калий, кальций, фосфор, магний, натрий, железо, марганец, цинк, медь, кобальт, молибден, никель, бор, йод, селен, хром, ванадий\n"
     ]
    }
   ],
   "source": [
    "#Запуск\n",
    "generated = generate(model, tok, \"Морковный сок - это самый\", num_beams=10)\n",
    "print(generated[0])"
   ]
  },
  {
   "cell_type": "code",
   "execution_count": null,
   "id": "9ed27d7e",
   "metadata": {},
   "outputs": [],
   "source": []
  }
 ],
 "metadata": {
  "kernelspec": {
   "display_name": "Python 3 (ipykernel)",
   "language": "python",
   "name": "python3"
  },
  "language_info": {
   "codemirror_mode": {
    "name": "ipython",
    "version": 3
   },
   "file_extension": ".py",
   "mimetype": "text/x-python",
   "name": "python",
   "nbconvert_exporter": "python",
   "pygments_lexer": "ipython3",
   "version": "3.10.9"
  }
 },
 "nbformat": 4,
 "nbformat_minor": 5
}
